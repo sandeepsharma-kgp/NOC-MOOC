{
 "cells": [
  {
   "cell_type": "code",
   "execution_count": 37,
   "metadata": {
    "collapsed": false
   },
   "outputs": [
    {
     "data": {
      "text/plain": [
       "87"
      ]
     },
     "execution_count": 37,
     "metadata": {},
     "output_type": "execute_result"
    }
   ],
   "source": [
    "import re\n",
    "from itertools import islice, izip\n",
    "#words = re.findall(\"\\w+\",\"the quick person did not realize his speed and the quick person bumped\")\n",
    "words = re.findall(\"\\w+\", \"Machine learning is the subfield of computer science that gives computers the ability \"+\n",
    "                   \"to learn without being explicitly programmed. Evolved from the study of pattern recognition and \"+\n",
    "                   \"computational learning theory in artificial intelligence, machine learning explores the study and \"+\n",
    "                   \"construction of algorithms that can learn from and make predictions on data – such algorithms overcome \"+\n",
    "                   \"following strictly static program instructions by making data driven predictions or decisions, through \"+\n",
    "                   \"building a model from sample inputs. Machine learning is employed in a range of computing tasks where \"+\n",
    "                   \"designing and programming explicit algorithms is infeasible\")  \n",
    "import collections\n",
    "h= collections.Counter(izip(words, islice(words, 1,None)))\n",
    "f=0\n",
    "for i in h:\n",
    "    f+=1\n",
    "f"
   ]
  },
  {
   "cell_type": "code",
   "execution_count": 38,
   "metadata": {
    "collapsed": false,
    "scrolled": true
   },
   "outputs": [
    {
     "data": {
      "text/plain": [
       "Counter({('learning', 'is'): 2, ('the', 'study'): 2, ('Machine', 'learning'): 2, ('construction', 'of'): 1, ('designing', 'and'): 1, ('of', 'computing'): 1, ('predictions', 'on'): 1, ('Evolved', 'from'): 1, ('algorithms', 'that'): 1, ('artificial', 'intelligence'): 1, ('explores', 'the'): 1, ('computers', 'the'): 1, ('theory', 'in'): 1, ('subfield', 'of'): 1, ('without', 'being'): 1, ('learn', 'without'): 1, ('or', 'decisions'): 1, ('algorithms', 'overcome'): 1, ('and', 'programming'): 1, ('range', 'of'): 1, ('employed', 'in'): 1, ('making', 'data'): 1, ('building', 'a'): 1, ('a', 'range'): 1, ('through', 'building'): 1, ('pattern', 'recognition'): 1, ('the', 'subfield'): 1, ('driven', 'predictions'): 1, ('programmed', 'Evolved'): 1, ('a', 'model'): 1, ('where', 'designing'): 1, ('being', 'explicitly'): 1, ('following', 'strictly'): 1, ('that', 'gives'): 1, ('machine', 'learning'): 1, ('such', 'algorithms'): 1, ('of', 'computer'): 1, ('science', 'that'): 1, ('computational', 'learning'): 1, ('ability', 'to'): 1, ('inputs', 'Machine'): 1, ('from', 'the'): 1, ('intelligence', 'machine'): 1, ('predictions', 'or'): 1, ('programming', 'explicit'): 1, ('is', 'employed'): 1, ('and', 'computational'): 1, ('explicit', 'algorithms'): 1, ('recognition', 'and'): 1, ('of', 'pattern'): 1, ('learning', 'theory'): 1, ('sample', 'inputs'): 1, ('algorithms', 'is'): 1, ('tasks', 'where'): 1, ('to', 'learn'): 1, ('learn', 'from'): 1, ('gives', 'computers'): 1, ('instructions', 'by'): 1, ('of', 'algorithms'): 1, ('make', 'predictions'): 1, ('decisions', 'through'): 1, ('in', 'artificial'): 1, ('and', 'make'): 1, ('static', 'program'): 1, ('is', 'the'): 1, ('data', 'such'): 1, ('is', 'infeasible'): 1, ('computing', 'tasks'): 1, ('learning', 'explores'): 1, ('the', 'ability'): 1, ('computer', 'science'): 1, ('explicitly', 'programmed'): 1, ('strictly', 'static'): 1, ('study', 'and'): 1, ('and', 'construction'): 1, ('by', 'making'): 1, ('overcome', 'following'): 1, ('study', 'of'): 1, ('from', 'and'): 1, ('program', 'instructions'): 1, ('data', 'driven'): 1, ('can', 'learn'): 1, ('in', 'a'): 1, ('model', 'from'): 1, ('on', 'data'): 1, ('that', 'can'): 1, ('from', 'sample'): 1})"
      ]
     },
     "execution_count": 38,
     "metadata": {},
     "output_type": "execute_result"
    }
   ],
   "source": [
    "h"
   ]
  },
  {
   "cell_type": "code",
   "execution_count": 39,
   "metadata": {
    "collapsed": false
   },
   "outputs": [],
   "source": [
    "type(h)\n",
    "h=dict(h)"
   ]
  },
  {
   "cell_type": "code",
   "execution_count": 40,
   "metadata": {
    "collapsed": false
   },
   "outputs": [],
   "source": [
    "import pandas as pd"
   ]
  },
  {
   "cell_type": "code",
   "execution_count": 41,
   "metadata": {
    "collapsed": false
   },
   "outputs": [
    {
     "data": {
      "text/plain": [
       "{('Evolved', 'from'): 1,\n",
       " ('Machine', 'learning'): 2,\n",
       " ('a', 'model'): 1,\n",
       " ('a', 'range'): 1,\n",
       " ('ability', 'to'): 1,\n",
       " ('algorithms', 'is'): 1,\n",
       " ('algorithms', 'overcome'): 1,\n",
       " ('algorithms', 'that'): 1,\n",
       " ('and', 'computational'): 1,\n",
       " ('and', 'construction'): 1,\n",
       " ('and', 'make'): 1,\n",
       " ('and', 'programming'): 1,\n",
       " ('artificial', 'intelligence'): 1,\n",
       " ('being', 'explicitly'): 1,\n",
       " ('building', 'a'): 1,\n",
       " ('by', 'making'): 1,\n",
       " ('can', 'learn'): 1,\n",
       " ('computational', 'learning'): 1,\n",
       " ('computer', 'science'): 1,\n",
       " ('computers', 'the'): 1,\n",
       " ('computing', 'tasks'): 1,\n",
       " ('construction', 'of'): 1,\n",
       " ('data', 'driven'): 1,\n",
       " ('data', 'such'): 1,\n",
       " ('decisions', 'through'): 1,\n",
       " ('designing', 'and'): 1,\n",
       " ('driven', 'predictions'): 1,\n",
       " ('employed', 'in'): 1,\n",
       " ('explicit', 'algorithms'): 1,\n",
       " ('explicitly', 'programmed'): 1,\n",
       " ('explores', 'the'): 1,\n",
       " ('following', 'strictly'): 1,\n",
       " ('from', 'and'): 1,\n",
       " ('from', 'sample'): 1,\n",
       " ('from', 'the'): 1,\n",
       " ('gives', 'computers'): 1,\n",
       " ('in', 'a'): 1,\n",
       " ('in', 'artificial'): 1,\n",
       " ('inputs', 'Machine'): 1,\n",
       " ('instructions', 'by'): 1,\n",
       " ('intelligence', 'machine'): 1,\n",
       " ('is', 'employed'): 1,\n",
       " ('is', 'infeasible'): 1,\n",
       " ('is', 'the'): 1,\n",
       " ('learn', 'from'): 1,\n",
       " ('learn', 'without'): 1,\n",
       " ('learning', 'explores'): 1,\n",
       " ('learning', 'is'): 2,\n",
       " ('learning', 'theory'): 1,\n",
       " ('machine', 'learning'): 1,\n",
       " ('make', 'predictions'): 1,\n",
       " ('making', 'data'): 1,\n",
       " ('model', 'from'): 1,\n",
       " ('of', 'algorithms'): 1,\n",
       " ('of', 'computer'): 1,\n",
       " ('of', 'computing'): 1,\n",
       " ('of', 'pattern'): 1,\n",
       " ('on', 'data'): 1,\n",
       " ('or', 'decisions'): 1,\n",
       " ('overcome', 'following'): 1,\n",
       " ('pattern', 'recognition'): 1,\n",
       " ('predictions', 'on'): 1,\n",
       " ('predictions', 'or'): 1,\n",
       " ('program', 'instructions'): 1,\n",
       " ('programmed', 'Evolved'): 1,\n",
       " ('programming', 'explicit'): 1,\n",
       " ('range', 'of'): 1,\n",
       " ('recognition', 'and'): 1,\n",
       " ('sample', 'inputs'): 1,\n",
       " ('science', 'that'): 1,\n",
       " ('static', 'program'): 1,\n",
       " ('strictly', 'static'): 1,\n",
       " ('study', 'and'): 1,\n",
       " ('study', 'of'): 1,\n",
       " ('subfield', 'of'): 1,\n",
       " ('such', 'algorithms'): 1,\n",
       " ('tasks', 'where'): 1,\n",
       " ('that', 'can'): 1,\n",
       " ('that', 'gives'): 1,\n",
       " ('the', 'ability'): 1,\n",
       " ('the', 'study'): 2,\n",
       " ('the', 'subfield'): 1,\n",
       " ('theory', 'in'): 1,\n",
       " ('through', 'building'): 1,\n",
       " ('to', 'learn'): 1,\n",
       " ('where', 'designing'): 1,\n",
       " ('without', 'being'): 1}"
      ]
     },
     "execution_count": 41,
     "metadata": {},
     "output_type": "execute_result"
    }
   ],
   "source": [
    "type(h)\n",
    "h"
   ]
  },
  {
   "cell_type": "code",
   "execution_count": 43,
   "metadata": {
    "collapsed": false
   },
   "outputs": [
    {
     "name": "stdout",
     "output_type": "stream",
     "text": [
      "intelligence\n",
      "machine\n",
      "1\n"
     ]
    }
   ],
   "source": [
    "count=0\n",
    "for i,j in h:\n",
    "    if(j==\"machine\"):\n",
    "        print i\n",
    "        print j\n",
    "        print h[i,j]\n",
    "\n"
   ]
  },
  {
   "cell_type": "code",
   "execution_count": 44,
   "metadata": {
    "collapsed": false
   },
   "outputs": [
    {
     "name": "stdout",
     "output_type": "stream",
     "text": [
      "Machine\n",
      "learning\n",
      "2\n",
      "machine\n",
      "learning\n",
      "1\n",
      "computational\n",
      "learning\n",
      "1\n"
     ]
    }
   ],
   "source": [
    "count=0\n",
    "for i,j in h:\n",
    "    if(j==\"learning\"):\n",
    "        print i\n",
    "        print j\n",
    "        print h[i,j]"
   ]
  },
  {
   "cell_type": "code",
   "execution_count": null,
   "metadata": {
    "collapsed": true
   },
   "outputs": [],
   "source": []
  }
 ],
 "metadata": {
  "kernelspec": {
   "display_name": "Python 2",
   "language": "python",
   "name": "python2"
  },
  "language_info": {
   "codemirror_mode": {
    "name": "ipython",
    "version": 2
   },
   "file_extension": ".py",
   "mimetype": "text/x-python",
   "name": "python",
   "nbconvert_exporter": "python",
   "pygments_lexer": "ipython2",
   "version": "2.7.10"
  }
 },
 "nbformat": 4,
 "nbformat_minor": 0
}
