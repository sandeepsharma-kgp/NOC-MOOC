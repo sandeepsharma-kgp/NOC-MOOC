{
 "cells": [
  {
   "cell_type": "code",
   "execution_count": 2,
   "metadata": {
    "collapsed": true
   },
   "outputs": [],
   "source": [
    "import re"
   ]
  },
  {
   "cell_type": "code",
   "execution_count": 25,
   "metadata": {
    "collapsed": false
   },
   "outputs": [],
   "source": [
    "from itertools import islice, izip\n",
    "#words = re.findall(\"\\w+\",\"the quick person did not realize his speed and the quick person bumped\")\n",
    "words = re.findall(\"\\w+\", \"<s> ice cream tastes better than any other food <s> ice cream is generally\"+\n",
    "                   \" served after the meal <s> many of us have happy childhood memories linked to ice cream <s>\")  "
   ]
  },
  {
   "cell_type": "code",
   "execution_count": 26,
   "metadata": {
    "collapsed": false
   },
   "outputs": [],
   "source": [
    "import collections\n",
    "h= collections.Counter(izip(words, islice(words, 1,None)))"
   ]
  },
  {
   "cell_type": "code",
   "execution_count": 27,
   "metadata": {
    "collapsed": false
   },
   "outputs": [
    {
     "data": {
      "text/plain": [
       "Counter({('ice', 'cream'): 3, ('s', 'ice'): 2, ('childhood', 'memories'): 1, ('generally', 'served'): 1, ('tastes', 'better'): 1, ('food', 's'): 1, ('of', 'us'): 1, ('linked', 'to'): 1, ('than', 'any'): 1, ('cream', 'tastes'): 1, ('memories', 'linked'): 1, ('have', 'happy'): 1, ('happy', 'childhood'): 1, ('cream', 's'): 1, ('better', 'than'): 1, ('is', 'generally'): 1, ('cream', 'is'): 1, ('other', 'food'): 1, ('served', 'after'): 1, ('meal', 's'): 1, ('any', 'other'): 1, ('the', 'meal'): 1, ('many', 'of'): 1, ('after', 'the'): 1, ('s', 'many'): 1, ('to', 'ice'): 1, ('us', 'have'): 1})"
      ]
     },
     "execution_count": 27,
     "metadata": {},
     "output_type": "execute_result"
    }
   ],
   "source": [
    "h"
   ]
  },
  {
   "cell_type": "code",
   "execution_count": 28,
   "metadata": {
    "collapsed": true
   },
   "outputs": [],
   "source": [
    "f=0\n",
    "for i in h:\n",
    "    f+=1"
   ]
  },
  {
   "cell_type": "code",
   "execution_count": 29,
   "metadata": {
    "collapsed": false
   },
   "outputs": [
    {
     "data": {
      "text/plain": [
       "27"
      ]
     },
     "execution_count": 29,
     "metadata": {},
     "output_type": "execute_result"
    }
   ],
   "source": [
    "f"
   ]
  },
  {
   "cell_type": "code",
   "execution_count": null,
   "metadata": {
    "collapsed": true
   },
   "outputs": [],
   "source": []
  }
 ],
 "metadata": {
  "kernelspec": {
   "display_name": "Python 2",
   "language": "python",
   "name": "python2"
  },
  "language_info": {
   "codemirror_mode": {
    "name": "ipython",
    "version": 2
   },
   "file_extension": ".py",
   "mimetype": "text/x-python",
   "name": "python",
   "nbconvert_exporter": "python",
   "pygments_lexer": "ipython2",
   "version": "2.7.10"
  }
 },
 "nbformat": 4,
 "nbformat_minor": 0
}
