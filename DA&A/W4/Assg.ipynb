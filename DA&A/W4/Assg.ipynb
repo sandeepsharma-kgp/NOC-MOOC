{
 "cells": [
  {
   "cell_type": "code",
   "execution_count": null,
   "metadata": {
    "collapsed": true
   },
   "outputs": [],
   "source": [
    "k = [int(x) for x in raw_input().split()]\n",
    "\n",
    "for i in range(len)\n",
    "a = [int(x) for x in raw_input().split()]\n",
    "b = [int(x) for x in raw_input().split()]\n",
    "c = [int(x) for x in raw_input().split()]\n",
    "d = [int(x) for x in raw_input().split()]\n",
    "e = [int(x) for x in raw_input().split()]"
   ]
  }
 ],
 "metadata": {
  "kernelspec": {
   "display_name": "Python 2",
   "language": "python",
   "name": "python2"
  },
  "language_info": {
   "codemirror_mode": {
    "name": "ipython",
    "version": 2
   },
   "file_extension": ".py",
   "mimetype": "text/x-python",
   "name": "python",
   "nbconvert_exporter": "python",
   "pygments_lexer": "ipython2",
   "version": "2.7.10"
  }
 },
 "nbformat": 4,
 "nbformat_minor": 0
}
