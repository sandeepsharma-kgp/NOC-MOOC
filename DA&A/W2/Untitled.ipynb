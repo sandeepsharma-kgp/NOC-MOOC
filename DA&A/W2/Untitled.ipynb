{
 "cells": [
  {
   "cell_type": "code",
   "execution_count": 3,
   "metadata": {
    "collapsed": false
   },
   "outputs": [
    {
     "name": "stdout",
     "output_type": "stream",
     "text": [
      "5 6 4 6 5 12\n"
     ]
    },
    {
     "ename": "SyntaxError",
     "evalue": "invalid syntax (<string>, line 1)",
     "output_type": "error",
     "traceback": [
      "\u001b[1;36m  File \u001b[1;32m\"<string>\"\u001b[1;36m, line \u001b[1;32m1\u001b[0m\n\u001b[1;33m    5 6 4 6 5 12\u001b[0m\n\u001b[1;37m      ^\u001b[0m\n\u001b[1;31mSyntaxError\u001b[0m\u001b[1;31m:\u001b[0m invalid syntax\n"
     ]
    }
   ],
   "source": [
    "a = [int(x) for x in input().split()]\n",
    "b = [int(x) for x in input().split()]\n",
    "c = [int(x) for x in input().split()]\n",
    "d = [int(x) for x in input().split()]\n",
    "e = [int(x) for x in input().split()]\n",
    "\n",
    "\n",
    "f=a+b+c+d+e\n",
    "\n",
    "g=set(f)\n",
    "\n",
    "g=list(g)\n",
    "\n",
    "h=dict.fromkeys(g, 0)\n",
    "for i in range(0,len(a)):\n",
    "    for j in range(0,len(g)):\n",
    "        if a[i]==g[j]:\n",
    "            h[g[j]]+=1       \n",
    "\n",
    "for i in range(0,len(b)):\n",
    "    for j in range(0,len(g)):\n",
    "        if b[i]==g[j]:\n",
    "            h[g[j]]+=1     \n",
    "            \n",
    "for i in range(0,len(c)):\n",
    "    for j in range(0,len(g)):\n",
    "        if c[i]==g[j]:\n",
    "            h[g[j]]+=1\n",
    "            \n",
    "for i in range(0,len(d)):\n",
    "    for j in range(0,len(g)):\n",
    "        if d[i]==g[j]:\n",
    "            h[g[j]]+=1\n",
    "\n",
    "for i in range(0,len(e)):\n",
    "    for j in range(0,len(g)):\n",
    "        if e[i]==g[j]:\n",
    "            h[g[j]]+=1\n",
    "\n",
    "result=[]\n",
    "for i in h:\n",
    "    if h[i]>=3:\n",
    "        result.append(i)\n",
    "\n",
    "print (result)"
   ]
  },
  {
   "cell_type": "code",
   "execution_count": null,
   "metadata": {
    "collapsed": true
   },
   "outputs": [],
   "source": []
  }
 ],
 "metadata": {
  "kernelspec": {
   "display_name": "Python 2",
   "language": "python",
   "name": "python2"
  },
  "language_info": {
   "codemirror_mode": {
    "name": "ipython",
    "version": 2
   },
   "file_extension": ".py",
   "mimetype": "text/x-python",
   "name": "python",
   "nbconvert_exporter": "python",
   "pygments_lexer": "ipython2",
   "version": "2.7.10"
  }
 },
 "nbformat": 4,
 "nbformat_minor": 0
}
