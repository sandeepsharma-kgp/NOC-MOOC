{
 "cells": [
  {
   "cell_type": "code",
   "execution_count": 147,
   "metadata": {
    "collapsed": false
   },
   "outputs": [],
   "source": [
    "\n",
    "def orangecap(d):\n",
    "    from sets import Set\n",
    "    x=Set()\n",
    "    for i in d:\n",
    "        for j in d[i]:\n",
    "            x.add(j)\n",
    "            \n",
    "    p=dict.fromkeys(x, 0)\n",
    "\n",
    "    for i in d:\n",
    "        for j in d[i]:\n",
    "            p[j]+=d[i][j]   \n",
    "    \n",
    "    max=0\n",
    "    for i,j in p.items():\n",
    "        if j>max:\n",
    "            max=j\n",
    "            score=j\n",
    "            player=i\n",
    "\n",
    "    print \"(\\'\"+player+\"',\"+str(score)+\")\""
   ]
  },
  {
   "cell_type": "code",
   "execution_count": 148,
   "metadata": {
    "collapsed": false
   },
   "outputs": [
    {
     "name": "stdout",
     "output_type": "stream",
     "text": [
      "('player3',100)\n"
     ]
    }
   ],
   "source": [
    "orangecap({'match1':{'player1':57, 'player2':38}, 'match2':{'player3':9, 'player1':42}, 'match3':{'player2':41, 'player4':63, 'player3':91}})"
   ]
  },
  {
   "cell_type": "code",
   "execution_count": 220,
   "metadata": {
    "collapsed": false
   },
   "outputs": [],
   "source": [
    "\n",
    "def addpoly(p1,p2):\n",
    "    d=dict()\n",
    "    import operator\n",
    "\n",
    "    for i in p1:\n",
    "        d[i[1]]=0\n",
    "    for i in p2:\n",
    "        d[i[1]]=0\n",
    "    for i in p1:\n",
    "        d[i[1]]+=i[0]\n",
    "    for i in p2:\n",
    "        d[i[1]]+=i[0]\n",
    "\n",
    "    l=[(y,x) for x,y in d.items() if y!=0]\n",
    "    \n",
    "    l.sort(key=operator.itemgetter(1),reverse=True)\n",
    "    d.clear()\n",
    "    print l\n",
    "  "
   ]
  },
  {
   "cell_type": "code",
   "execution_count": 221,
   "metadata": {
    "collapsed": false
   },
   "outputs": [
    {
     "name": "stdout",
     "output_type": "stream",
     "text": [
      "[(2, 1), (3, 0)]\n"
     ]
    }
   ],
   "source": [
    "addpoly([(4,3),(3,0)],[(-4,3),(2,1)])"
   ]
  },
  {
   "cell_type": "code",
   "execution_count": 222,
   "metadata": {
    "collapsed": false
   },
   "outputs": [
    {
     "name": "stdout",
     "output_type": "stream",
     "text": [
      "[]\n"
     ]
    }
   ],
   "source": [
    "addpoly([(2,1)],[(-2,1)])"
   ]
  },
  {
   "cell_type": "code",
   "execution_count": 236,
   "metadata": {
    "collapsed": false
   },
   "outputs": [],
   "source": [
    "def multpoly(p1,p2):\n",
    "    l=[]\n",
    "    d=dict()\n",
    "    import operator\n",
    "\n",
    "\n",
    "    for i in p1:\n",
    "        for j in p2:\n",
    "            x=i[0]*j[0] \n",
    "            y=i[1]+j[1]\n",
    "            l.append((x,y))\n",
    "    for i in l:\n",
    "        d[i[1]]=0\n",
    "    for i in l:\n",
    "        d[i[1]]+=i[0]\n",
    "    l=[(y,x) for x,y in d.items() if y!=0]\n",
    "    \n",
    "    l.sort(key=operator.itemgetter(1),reverse=True)\n",
    "    \n",
    "    print l"
   ]
  },
  {
   "cell_type": "code",
   "execution_count": 237,
   "metadata": {
    "collapsed": false
   },
   "outputs": [
    {
     "name": "stdout",
     "output_type": "stream",
     "text": [
      "[(1, 3), (-1, 0)]\n"
     ]
    }
   ],
   "source": [
    "multpoly([(1,1),(-1,0)],[(1,2),(1,1),(1,0)])"
   ]
  },
  {
   "cell_type": "code",
   "execution_count": null,
   "metadata": {
    "collapsed": true
   },
   "outputs": [],
   "source": []
  }
 ],
 "metadata": {
  "kernelspec": {
   "display_name": "Python 2",
   "language": "python",
   "name": "python2"
  },
  "language_info": {
   "codemirror_mode": {
    "name": "ipython",
    "version": 2
   },
   "file_extension": ".py",
   "mimetype": "text/x-python",
   "name": "python",
   "nbconvert_exporter": "python",
   "pygments_lexer": "ipython2",
   "version": "2.7.10"
  }
 },
 "nbformat": 4,
 "nbformat_minor": 0
}
